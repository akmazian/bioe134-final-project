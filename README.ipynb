{
 "cells": [
  {
   "cell_type": "markdown",
   "metadata": {},
   "source": [
    "# ReadMe.ipynb\n",
    "- for AZ's BioE 134 Final Project\n",
    "\n",
    "For starters, I want to admit that there are places where small details are not always working at 100%. It would be lovely to iron out those wrinkles down the line but for now it is mostly functioning.\n",
    "\n",
    "There are a lot of stuff built behind the screen for implementations of the few exposed methods. If you are interested in checking them out, you can find them in the source code."
   ]
  },
  {
   "cell_type": "code",
   "execution_count": 25,
   "metadata": {},
   "outputs": [],
   "source": [
    "import pandas as pd # for easier visualization"
   ]
  },
  {
   "cell_type": "markdown",
   "metadata": {},
   "source": [
    "## Gibson Assembly\n",
    "Gibson Assembly is a very commonly used tool in cloning. It inserts one or more fragment(s) amplified with two oligos that contain a predesigned overhang into a backbone.\n",
    "The most common way to do Gibson is to use a plasmid with a unique restriction cutting site at the locus where the insert is going to be as the backbone. From there, a pair of primers with sufficient overlap with the insert and the plasmid need to be designed and used for amplification of the backbone. To make that process easier and less prone to errors, this following functions comes into play."
   ]
  },
  {
   "cell_type": "code",
   "execution_count": 26,
   "metadata": {},
   "outputs": [],
   "source": [
    "from helper.biology.GibsonAssembly import GibsonAssembly\n",
    "\n",
    "# misc methods\n",
    "from helper.io import readDict\n",
    "\n",
    "demo_data = readDict('./demo.json')"
   ]
  },
  {
   "cell_type": "code",
   "execution_count": 27,
   "metadata": {},
   "outputs": [
    {
     "data": {
      "text/plain": [
       "dict_keys(['GibsonBackbone', 'GibsonInsert', 'EGFPSequence', 'Ensembl'])"
      ]
     },
     "execution_count": 27,
     "metadata": {},
     "output_type": "execute_result"
    }
   ],
   "source": [
    "demo_data.keys()"
   ]
  },
  {
   "cell_type": "code",
   "execution_count": 3,
   "metadata": {},
   "outputs": [],
   "source": [
    "# creating an assembly object\n",
    "assembly = GibsonAssembly(demo_data['GibsonBackbone'], 'GAATTC')"
   ]
  },
  {
   "cell_type": "code",
   "execution_count": 4,
   "metadata": {},
   "outputs": [
    {
     "data": {
      "text/plain": [
       "('TCTCTGCTCTTCACGCTACTTATTAAACAGCTGTTAATTT',\n",
       " 'GAAGAACCGGTGATGAATTCTACTTGTACAGCTCGTCCA')"
      ]
     },
     "execution_count": 4,
     "metadata": {},
     "output_type": "execute_result"
    }
   ],
   "source": [
    "# use the internal __call__ method to directly run the object\n",
    "assembly(demo_data['GibsonInsert'], preserve_cutting_site='none')"
   ]
  },
  {
   "cell_type": "code",
   "execution_count": 5,
   "metadata": {},
   "outputs": [
    {
     "name": "stdout",
     "output_type": "stream",
     "text": [
      "overhang_length is possibly too short or too long, which might lead to insufficient Gibson Assembly. Use around 15 to 30 for optimal result\n"
     ]
    },
    {
     "data": {
      "text/plain": [
       "('GCGTTGTTGTCGGTGCTCGTTCTCTGCTCTTCACGCTACTTATTAAACAGCTGTTAATTT',\n",
       " 'TGGCAACTAGAAGGCACAGCGAAGAACCGGTGATGAATTCTACTTGTACAGCTCGTCCA')"
      ]
     },
     "execution_count": 5,
     "metadata": {},
     "output_type": "execute_result"
    }
   ],
   "source": [
    "assembly(demo_data['GibsonInsert'], preserve_cutting_site='none', overhang_length=40)"
   ]
  },
  {
   "cell_type": "code",
   "execution_count": 6,
   "metadata": {},
   "outputs": [
    {
     "name": "stdout",
     "output_type": "stream",
     "text": [
      "binding_length is possibly too short or too long, which might lead to insufficient PCR. Use around 15 to 30 for optimal result\n"
     ]
    },
    {
     "data": {
      "text/plain": [
       "('TCTCTGCTCTTCACGCTACTTATTAAACAGCTGTTAATTTTGGTTTCTTTTTGGTAACAG',\n",
       " 'GAAGAACCGGTGATGAATTCTACTTGTACAGCTCGTCCATGCCGCCGGTGGAGTGGCGG')"
      ]
     },
     "execution_count": 6,
     "metadata": {},
     "output_type": "execute_result"
    }
   ],
   "source": [
    "assembly(demo_data['GibsonInsert'], preserve_cutting_site='none', binding_length=40)"
   ]
  },
  {
   "cell_type": "code",
   "execution_count": 7,
   "metadata": {},
   "outputs": [
    {
     "name": "stdout",
     "output_type": "stream",
     "text": [
      "*raising error due to unrecognized input*\n"
     ]
    }
   ],
   "source": [
    "try:\n",
    "    assembly(demo_data['GibsonInsert'], preserve_cutting_site='1234')\n",
    "except:\n",
    "    print('*raising error due to unrecognized input*')"
   ]
  },
  {
   "cell_type": "markdown",
   "metadata": {},
   "source": [
    "## Basic Biology\n",
    "Here are a few examples of basic biology tools in the module"
   ]
  },
  {
   "cell_type": "code",
   "execution_count": 8,
   "metadata": {},
   "outputs": [],
   "source": [
    "from helper.biology import transcribe, translate, reverseTranscribe\n",
    "\n",
    "# an example DNA sequence of an engineered GFP protein\n",
    "EGFP = demo_data['EGFPSequence']"
   ]
  },
  {
   "cell_type": "code",
   "execution_count": 9,
   "metadata": {},
   "outputs": [
    {
     "data": {
      "text/plain": [
       "Peptide: MVSKGEELFTGVVPILVELDGDVNGHKFSVSGEGEGDATYGKLTLKFICTTGKLPVPWPTLVTTLTYGVQCFSRYPDHMKQHDFFKSAMPEGYVQERTIFFKDDGNYKTRAEVKFEGDTLVNRIELKGIDFKEDGNILGHKLEYNYNSHNVYIMADKQKNGIKVNFKIRHNIEDGSVQLADHYQQNTPIGDGPVLLPDNHYLSTQSALSKDPNEKRDHMVLLEFVTAAGITLGMDELYK*"
      ]
     },
     "execution_count": 9,
     "metadata": {},
     "output_type": "execute_result"
    }
   ],
   "source": [
    "# returns a peptide object\n",
    "translate(EGFP)"
   ]
  },
  {
   "cell_type": "code",
   "execution_count": 10,
   "metadata": {},
   "outputs": [
    {
     "data": {
      "text/plain": [
       "'AUGGUGAGCAAGGGCGAGGAGCUGUUCACCGGGGUGGUGCCCAUCCUGGUCGAGCUGGACGGCGACGUAAACGGCCACAAGUUCAGCGUGUCCGGCGAGGGCGAGGGCGAUGCCACCUACGGCAAGCUGACCCUGAAGUUCAUCUGCACCACCGGCAAGCUGCCCGUGCCCUGGCCCACCCUCGUGACCACCCUGACCUACGGCGUGCAGUGCUUCAGCCGCUACCCCGACCACAUGAAGCAGCACGACUUCUUCAAGUCCGCCAUGCCCGAAGGCUACGUCCAGGAGCGCACCAUCUUCUUCAAGGACGACGGCAACUACAAGACCCGCGCCGAGGUGAAGUUCGAGGGCGACACCCUGGUGAACCGCAUCGAGCUGAAGGGCAUCGACUUCAAGGAGGACGGCAACAUCCUGGGGCACAAGCUGGAGUACAACUACAACAGCCACAACGUCUAUAUCAUGGCCGACAAGCAGAAGAACGGCAUCAAGGUGAACUUCAAGAUCCGCCACAACAUCGAGGACGGCAGCGUGCAGCUCGCCGACCACUACCAGCAGAACACCCCCAUCGGCGACGGCCCCGUGCUGCUGCCCGACAACCACUACCUGAGCACCCAGUCCGCCCUGAGCAAAGACCCCAACGAGAAGCGCGAUCACAUGGUCCUGCUGGAGUUCGUGACCGCCGCCGGGAUCACUCUCGGCAUGGACGAGCUGUACAAGUAA'"
      ]
     },
     "execution_count": 10,
     "metadata": {},
     "output_type": "execute_result"
    }
   ],
   "source": [
    "transcribe(EGFP)"
   ]
  },
  {
   "cell_type": "code",
   "execution_count": 11,
   "metadata": {},
   "outputs": [
    {
     "data": {
      "text/plain": [
       "'ATGGTGAGCAAGGGCGAGGAGCTGTTCACCGGGGTGGTGCCCATCCTGGTCGAGCTGGACGGCGACGTAAACGGCCACAAGTTCAGCGTGTCCGGCGAGGGCGAGGGCGATGCCACCTACGGCAAGCTGACCCTGAAGTTCATCTGCACCACCGGCAAGCTGCCCGTGCCCTGGCCCACCCTCGTGACCACCCTGACCTACGGCGTGCAGTGCTTCAGCCGCTACCCCGACCACATGAAGCAGCACGACTTCTTCAAGTCCGCCATGCCCGAAGGCTACGTCCAGGAGCGCACCATCTTCTTCAAGGACGACGGCAACTACAAGACCCGCGCCGAGGTGAAGTTCGAGGGCGACACCCTGGTGAACCGCATCGAGCTGAAGGGCATCGACTTCAAGGAGGACGGCAACATCCTGGGGCACAAGCTGGAGTACAACTACAACAGCCACAACGTCTATATCATGGCCGACAAGCAGAAGAACGGCATCAAGGTGAACTTCAAGATCCGCCACAACATCGAGGACGGCAGCGTGCAGCTCGCCGACCACTACCAGCAGAACACCCCCATCGGCGACGGCCCCGTGCTGCTGCCCGACAACCACTACCTGAGCACCCAGTCCGCCCTGAGCAAAGACCCCAACGAGAAGCGCGATCACATGGTCCTGCTGGAGTTCGTGACCGCCGCCGGGATCACTCTCGGCATGGACGAGCTGTACAAGTAA'"
      ]
     },
     "execution_count": 11,
     "metadata": {},
     "output_type": "execute_result"
    }
   ],
   "source": [
    "# doesn't really do anything to a DNA sequence (it only RT RNAs)\n",
    "# but can be used as a tool to standardize DNA format\n",
    "reverseTranscribe(EGFP)"
   ]
  },
  {
   "cell_type": "markdown",
   "metadata": {},
   "source": [
    "## Ensembl?\n",
    "The Ensembl genome database project provides a centralized resource for genomics. It contains various information one might find useful, such as information about a gene, the sequence of a particular transcript, etc.\n",
    "\n",
    "It is indeed an useful too, but can often be frustrating to use if one has many queries to run. Hence, here is an example of how to do a batch request for informations."
   ]
  },
  {
   "cell_type": "code",
   "execution_count": 12,
   "metadata": {},
   "outputs": [],
   "source": [
    "from helper.ensembl.requests import LookUpRequest, BasePostRequest\n",
    "\n",
    "ensembl_codes = demo_data['Ensembl']"
   ]
  },
  {
   "cell_type": "code",
   "execution_count": 31,
   "metadata": {},
   "outputs": [
    {
     "name": "stdout",
     "output_type": "stream",
     "text": [
      "LookUpRequest: iter #0\n"
     ]
    },
    {
     "data": {
      "text/html": [
       "<div>\n",
       "<style scoped>\n",
       "    .dataframe tbody tr th:only-of-type {\n",
       "        vertical-align: middle;\n",
       "    }\n",
       "\n",
       "    .dataframe tbody tr th {\n",
       "        vertical-align: top;\n",
       "    }\n",
       "\n",
       "    .dataframe thead th {\n",
       "        text-align: right;\n",
       "    }\n",
       "</style>\n",
       "<table border=\"1\" class=\"dataframe\">\n",
       "  <thead>\n",
       "    <tr style=\"text-align: right;\">\n",
       "      <th></th>\n",
       "      <th>strand</th>\n",
       "      <th>version</th>\n",
       "      <th>species</th>\n",
       "      <th>start</th>\n",
       "      <th>canonical_transcript</th>\n",
       "      <th>display_name</th>\n",
       "      <th>assembly_name</th>\n",
       "      <th>end</th>\n",
       "      <th>db_type</th>\n",
       "      <th>seq_region_name</th>\n",
       "      <th>description</th>\n",
       "      <th>object_type</th>\n",
       "      <th>id</th>\n",
       "      <th>logic_name</th>\n",
       "      <th>source</th>\n",
       "      <th>biotype</th>\n",
       "    </tr>\n",
       "  </thead>\n",
       "  <tbody>\n",
       "    <tr>\n",
       "      <th>ENSG00000067082</th>\n",
       "      <td>-1</td>\n",
       "      <td>15</td>\n",
       "      <td>homo_sapiens</td>\n",
       "      <td>3775996</td>\n",
       "      <td>ENST00000497571.6</td>\n",
       "      <td>KLF6</td>\n",
       "      <td>GRCh38</td>\n",
       "      <td>3785281</td>\n",
       "      <td>core</td>\n",
       "      <td>10</td>\n",
       "      <td>KLF transcription factor 6 [Source:HGNC Symbol...</td>\n",
       "      <td>Gene</td>\n",
       "      <td>ENSG00000067082</td>\n",
       "      <td>ensembl_havana_gene_homo_sapiens</td>\n",
       "      <td>ensembl_havana</td>\n",
       "      <td>protein_coding</td>\n",
       "    </tr>\n",
       "    <tr>\n",
       "      <th>ENSG00000001626</th>\n",
       "      <td>1</td>\n",
       "      <td>18</td>\n",
       "      <td>homo_sapiens</td>\n",
       "      <td>117287120</td>\n",
       "      <td>ENST00000003084.11</td>\n",
       "      <td>CFTR</td>\n",
       "      <td>GRCh38</td>\n",
       "      <td>117715971</td>\n",
       "      <td>core</td>\n",
       "      <td>7</td>\n",
       "      <td>CF transmembrane conductance regulator [Source...</td>\n",
       "      <td>Gene</td>\n",
       "      <td>ENSG00000001626</td>\n",
       "      <td>ensembl_havana_gene_homo_sapiens</td>\n",
       "      <td>ensembl_havana</td>\n",
       "      <td>protein_coding</td>\n",
       "    </tr>\n",
       "    <tr>\n",
       "      <th>ENSG00000000003</th>\n",
       "      <td>-1</td>\n",
       "      <td>16</td>\n",
       "      <td>homo_sapiens</td>\n",
       "      <td>100627108</td>\n",
       "      <td>ENST00000373020.9</td>\n",
       "      <td>TSPAN6</td>\n",
       "      <td>GRCh38</td>\n",
       "      <td>100639991</td>\n",
       "      <td>core</td>\n",
       "      <td>X</td>\n",
       "      <td>tetraspanin 6 [Source:HGNC Symbol;Acc:HGNC:11858]</td>\n",
       "      <td>Gene</td>\n",
       "      <td>ENSG00000000003</td>\n",
       "      <td>ensembl_havana_gene_homo_sapiens</td>\n",
       "      <td>ensembl_havana</td>\n",
       "      <td>protein_coding</td>\n",
       "    </tr>\n",
       "    <tr>\n",
       "      <th>ENSG00000000005</th>\n",
       "      <td>1</td>\n",
       "      <td>6</td>\n",
       "      <td>homo_sapiens</td>\n",
       "      <td>100584936</td>\n",
       "      <td>ENST00000373031.5</td>\n",
       "      <td>TNMD</td>\n",
       "      <td>GRCh38</td>\n",
       "      <td>100599885</td>\n",
       "      <td>core</td>\n",
       "      <td>X</td>\n",
       "      <td>tenomodulin [Source:HGNC Symbol;Acc:HGNC:17757]</td>\n",
       "      <td>Gene</td>\n",
       "      <td>ENSG00000000005</td>\n",
       "      <td>ensembl_havana_gene_homo_sapiens</td>\n",
       "      <td>ensembl_havana</td>\n",
       "      <td>protein_coding</td>\n",
       "    </tr>\n",
       "  </tbody>\n",
       "</table>\n",
       "</div>"
      ],
      "text/plain": [
       "                strand version       species      start canonical_transcript  \\\n",
       "ENSG00000067082     -1      15  homo_sapiens    3775996    ENST00000497571.6   \n",
       "ENSG00000001626      1      18  homo_sapiens  117287120   ENST00000003084.11   \n",
       "ENSG00000000003     -1      16  homo_sapiens  100627108    ENST00000373020.9   \n",
       "ENSG00000000005      1       6  homo_sapiens  100584936    ENST00000373031.5   \n",
       "\n",
       "                display_name assembly_name        end db_type seq_region_name  \\\n",
       "ENSG00000067082         KLF6        GRCh38    3785281    core              10   \n",
       "ENSG00000001626         CFTR        GRCh38  117715971    core               7   \n",
       "ENSG00000000003       TSPAN6        GRCh38  100639991    core               X   \n",
       "ENSG00000000005         TNMD        GRCh38  100599885    core               X   \n",
       "\n",
       "                                                       description  \\\n",
       "ENSG00000067082  KLF transcription factor 6 [Source:HGNC Symbol...   \n",
       "ENSG00000001626  CF transmembrane conductance regulator [Source...   \n",
       "ENSG00000000003  tetraspanin 6 [Source:HGNC Symbol;Acc:HGNC:11858]   \n",
       "ENSG00000000005    tenomodulin [Source:HGNC Symbol;Acc:HGNC:17757]   \n",
       "\n",
       "                object_type               id  \\\n",
       "ENSG00000067082        Gene  ENSG00000067082   \n",
       "ENSG00000001626        Gene  ENSG00000001626   \n",
       "ENSG00000000003        Gene  ENSG00000000003   \n",
       "ENSG00000000005        Gene  ENSG00000000005   \n",
       "\n",
       "                                       logic_name          source  \\\n",
       "ENSG00000067082  ensembl_havana_gene_homo_sapiens  ensembl_havana   \n",
       "ENSG00000001626  ensembl_havana_gene_homo_sapiens  ensembl_havana   \n",
       "ENSG00000000003  ensembl_havana_gene_homo_sapiens  ensembl_havana   \n",
       "ENSG00000000005  ensembl_havana_gene_homo_sapiens  ensembl_havana   \n",
       "\n",
       "                        biotype  \n",
       "ENSG00000067082  protein_coding  \n",
       "ENSG00000001626  protein_coding  \n",
       "ENSG00000000003  protein_coding  \n",
       "ENSG00000000005  protein_coding  "
      ]
     },
     "execution_count": 31,
     "metadata": {},
     "output_type": "execute_result"
    }
   ],
   "source": [
    "# Ensembl has a limit of 1000 items per request, which is can be a little bit irritating\n",
    "# luckily, the request method handles that and allows for any number of query simultaneously.\n",
    "\n",
    "result = LookUpRequest(ensembl_codes)\n",
    "pd.DataFrame(result).T.head(5)"
   ]
  },
  {
   "cell_type": "code",
   "execution_count": 32,
   "metadata": {},
   "outputs": [
    {
     "name": "stdout",
     "output_type": "stream",
     "text": [
      "the same request but from grch37 (i.e. hg19) instead of grch38\n"
     ]
    },
    {
     "data": {
      "text/html": [
       "<div>\n",
       "<style scoped>\n",
       "    .dataframe tbody tr th:only-of-type {\n",
       "        vertical-align: middle;\n",
       "    }\n",
       "\n",
       "    .dataframe tbody tr th {\n",
       "        vertical-align: top;\n",
       "    }\n",
       "\n",
       "    .dataframe thead th {\n",
       "        text-align: right;\n",
       "    }\n",
       "</style>\n",
       "<table border=\"1\" class=\"dataframe\">\n",
       "  <thead>\n",
       "    <tr style=\"text-align: right;\">\n",
       "      <th></th>\n",
       "      <th>id</th>\n",
       "      <th>assembly_name</th>\n",
       "      <th>description</th>\n",
       "      <th>end</th>\n",
       "      <th>logic_name</th>\n",
       "      <th>seq_region_name</th>\n",
       "      <th>version</th>\n",
       "      <th>species</th>\n",
       "      <th>db_type</th>\n",
       "      <th>biotype</th>\n",
       "      <th>source</th>\n",
       "      <th>strand</th>\n",
       "      <th>object_type</th>\n",
       "      <th>start</th>\n",
       "      <th>canonical_transcript</th>\n",
       "      <th>display_name</th>\n",
       "    </tr>\n",
       "  </thead>\n",
       "  <tbody>\n",
       "    <tr>\n",
       "      <th>ENSG00000000005</th>\n",
       "      <td>ENSG00000000005</td>\n",
       "      <td>GRCh37</td>\n",
       "      <td>tenomodulin [Source:HGNC Symbol;Acc:17757]</td>\n",
       "      <td>99854882</td>\n",
       "      <td>ensembl_havana_gene_homo_sapiens_37</td>\n",
       "      <td>X</td>\n",
       "      <td>5</td>\n",
       "      <td>homo_sapiens</td>\n",
       "      <td>core</td>\n",
       "      <td>protein_coding</td>\n",
       "      <td>ensembl_havana</td>\n",
       "      <td>1</td>\n",
       "      <td>Gene</td>\n",
       "      <td>99839799</td>\n",
       "      <td>ENST00000373031.4</td>\n",
       "      <td>TNMD</td>\n",
       "    </tr>\n",
       "    <tr>\n",
       "      <th>ENSG00000001626</th>\n",
       "      <td>ENSG00000001626</td>\n",
       "      <td>GRCh37</td>\n",
       "      <td>cystic fibrosis transmembrane conductance regu...</td>\n",
       "      <td>117356025</td>\n",
       "      <td>ensembl_havana_gene_homo_sapiens_37</td>\n",
       "      <td>7</td>\n",
       "      <td>10</td>\n",
       "      <td>homo_sapiens</td>\n",
       "      <td>core</td>\n",
       "      <td>protein_coding</td>\n",
       "      <td>ensembl_havana</td>\n",
       "      <td>1</td>\n",
       "      <td>Gene</td>\n",
       "      <td>117105838</td>\n",
       "      <td>ENST00000003084.6</td>\n",
       "      <td>CFTR</td>\n",
       "    </tr>\n",
       "    <tr>\n",
       "      <th>ENSG00000067082</th>\n",
       "      <td>ENSG00000067082</td>\n",
       "      <td>GRCh37</td>\n",
       "      <td>Kruppel-like factor 6 [Source:HGNC Symbol;Acc:...</td>\n",
       "      <td>3827473</td>\n",
       "      <td>ensembl_havana_gene_homo_sapiens_37</td>\n",
       "      <td>10</td>\n",
       "      <td>10</td>\n",
       "      <td>homo_sapiens</td>\n",
       "      <td>core</td>\n",
       "      <td>protein_coding</td>\n",
       "      <td>ensembl_havana</td>\n",
       "      <td>-1</td>\n",
       "      <td>Gene</td>\n",
       "      <td>3818188</td>\n",
       "      <td>ENST00000497571.1</td>\n",
       "      <td>KLF6</td>\n",
       "    </tr>\n",
       "    <tr>\n",
       "      <th>ENSG00000000003</th>\n",
       "      <td>ENSG00000000003</td>\n",
       "      <td>GRCh37</td>\n",
       "      <td>tetraspanin 6 [Source:HGNC Symbol;Acc:11858]</td>\n",
       "      <td>99894988</td>\n",
       "      <td>ensembl_havana_gene_homo_sapiens_37</td>\n",
       "      <td>X</td>\n",
       "      <td>10</td>\n",
       "      <td>homo_sapiens</td>\n",
       "      <td>core</td>\n",
       "      <td>protein_coding</td>\n",
       "      <td>ensembl_havana</td>\n",
       "      <td>-1</td>\n",
       "      <td>Gene</td>\n",
       "      <td>99883667</td>\n",
       "      <td>ENST00000373020.4</td>\n",
       "      <td>TSPAN6</td>\n",
       "    </tr>\n",
       "  </tbody>\n",
       "</table>\n",
       "</div>"
      ],
      "text/plain": [
       "                              id assembly_name  \\\n",
       "ENSG00000000005  ENSG00000000005        GRCh37   \n",
       "ENSG00000001626  ENSG00000001626        GRCh37   \n",
       "ENSG00000067082  ENSG00000067082        GRCh37   \n",
       "ENSG00000000003  ENSG00000000003        GRCh37   \n",
       "\n",
       "                                                       description        end  \\\n",
       "ENSG00000000005         tenomodulin [Source:HGNC Symbol;Acc:17757]   99854882   \n",
       "ENSG00000001626  cystic fibrosis transmembrane conductance regu...  117356025   \n",
       "ENSG00000067082  Kruppel-like factor 6 [Source:HGNC Symbol;Acc:...    3827473   \n",
       "ENSG00000000003       tetraspanin 6 [Source:HGNC Symbol;Acc:11858]   99894988   \n",
       "\n",
       "                                          logic_name seq_region_name version  \\\n",
       "ENSG00000000005  ensembl_havana_gene_homo_sapiens_37               X       5   \n",
       "ENSG00000001626  ensembl_havana_gene_homo_sapiens_37               7      10   \n",
       "ENSG00000067082  ensembl_havana_gene_homo_sapiens_37              10      10   \n",
       "ENSG00000000003  ensembl_havana_gene_homo_sapiens_37               X      10   \n",
       "\n",
       "                      species db_type         biotype          source strand  \\\n",
       "ENSG00000000005  homo_sapiens    core  protein_coding  ensembl_havana      1   \n",
       "ENSG00000001626  homo_sapiens    core  protein_coding  ensembl_havana      1   \n",
       "ENSG00000067082  homo_sapiens    core  protein_coding  ensembl_havana     -1   \n",
       "ENSG00000000003  homo_sapiens    core  protein_coding  ensembl_havana     -1   \n",
       "\n",
       "                object_type      start canonical_transcript display_name  \n",
       "ENSG00000000005        Gene   99839799    ENST00000373031.4         TNMD  \n",
       "ENSG00000001626        Gene  117105838    ENST00000003084.6         CFTR  \n",
       "ENSG00000067082        Gene    3818188    ENST00000497571.1         KLF6  \n",
       "ENSG00000000003        Gene   99883667    ENST00000373020.4       TSPAN6  "
      ]
     },
     "execution_count": 32,
     "metadata": {},
     "output_type": "execute_result"
    }
   ],
   "source": [
    "# alternatively, use an exposed request endpoint to query basically anything with more\n",
    "# rooms for customization\n",
    "print(\"the same request but from grch37 (i.e. hg19) instead of grch38\")\n",
    "result = BasePostRequest(\"lookup/id\", data={\"ids\": ensembl_codes}, assembly=\"grch37\")\n",
    "pd.DataFrame(result).T.head(5)"
   ]
  },
  {
   "cell_type": "markdown",
   "metadata": {},
   "source": [
    "## Misc\n",
    "There are also a few random methods that can come in handy, like the io module used at the very beginning.\n",
    "\n",
    "There are also method for identifying sgRNA for CRISPR, finding unique cutters, double cutters, or N cutters from a sequence, and util classes like Peptide, AminoAcids, etc.\n",
    "\n",
    "That's pretty much it! Thank you for reading this quick readme/demo!"
   ]
  },
  {
   "cell_type": "markdown",
   "metadata": {},
   "source": []
  }
 ],
 "metadata": {
  "kernelspec": {
   "display_name": "Python 3",
   "language": "python",
   "name": "python3"
  },
  "language_info": {
   "codemirror_mode": {
    "name": "ipython",
    "version": 3
   },
   "file_extension": ".py",
   "mimetype": "text/x-python",
   "name": "python",
   "nbconvert_exporter": "python",
   "pygments_lexer": "ipython3",
   "version": "3.10.10"
  },
  "orig_nbformat": 4
 },
 "nbformat": 4,
 "nbformat_minor": 2
}
